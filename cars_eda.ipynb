{
 "cells": [
  {
   "cell_type": "markdown",
   "id": "20d69a4b",
   "metadata": {},
   "source": [
    "# Exploratory Data Analysis and preprocessing on datasets\n",
    "\n",
    "**EDA:**\n",
    "\n",
    "look at datasets\n",
    "\n",
    "find outliers\n",
    " \n",
    "**Preprocessing:**\n",
    "\n",
    "remove unnecessary columns\n",
    "\n",
    "handle missing values and bad entries\n",
    "\n",
    "Create matching id for both table"
   ]
  },
  {
   "cell_type": "code",
   "execution_count": 2,
   "id": "b097f942",
   "metadata": {},
   "outputs": [],
   "source": [
    "# imports\n",
    "import pandas as pd\n",
    "import numpy as np\n",
    "import matplotlib.pyplot as plt\n",
    "import seaborn as sns"
   ]
  },
  {
   "cell_type": "markdown",
   "id": "3f7100d4",
   "metadata": {},
   "source": [
    "### cars for sale data (cars_raw.csv)"
   ]
  },
  {
   "cell_type": "code",
   "execution_count": 3,
   "id": "e5f7ec93",
   "metadata": {},
   "outputs": [
    {
     "data": {
      "text/html": [
       "<div>\n",
       "<style scoped>\n",
       "    .dataframe tbody tr th:only-of-type {\n",
       "        vertical-align: middle;\n",
       "    }\n",
       "\n",
       "    .dataframe tbody tr th {\n",
       "        vertical-align: top;\n",
       "    }\n",
       "\n",
       "    .dataframe thead th {\n",
       "        text-align: right;\n",
       "    }\n",
       "</style>\n",
       "<table border=\"1\" class=\"dataframe\">\n",
       "  <thead>\n",
       "    <tr style=\"text-align: right;\">\n",
       "      <th></th>\n",
       "      <th>Year</th>\n",
       "      <th>Make</th>\n",
       "      <th>Model</th>\n",
       "      <th>Used/New</th>\n",
       "      <th>Price</th>\n",
       "      <th>ConsumerRating</th>\n",
       "      <th>ConsumerReviews</th>\n",
       "      <th>SellerType</th>\n",
       "      <th>SellerName</th>\n",
       "      <th>SellerRating</th>\n",
       "      <th>...</th>\n",
       "      <th>InteriorColor</th>\n",
       "      <th>Drivetrain</th>\n",
       "      <th>MinMPG</th>\n",
       "      <th>MaxMPG</th>\n",
       "      <th>FuelType</th>\n",
       "      <th>Transmission</th>\n",
       "      <th>Engine</th>\n",
       "      <th>VIN</th>\n",
       "      <th>Stock#</th>\n",
       "      <th>Mileage</th>\n",
       "    </tr>\n",
       "  </thead>\n",
       "  <tbody>\n",
       "    <tr>\n",
       "      <th>0</th>\n",
       "      <td>2019</td>\n",
       "      <td>Toyota</td>\n",
       "      <td>Sienna SE</td>\n",
       "      <td>Used</td>\n",
       "      <td>$39,998</td>\n",
       "      <td>4.6</td>\n",
       "      <td>45</td>\n",
       "      <td>Dealer</td>\n",
       "      <td>CarMax Murrieta - Now offering Curbside Pickup...</td>\n",
       "      <td>3.3</td>\n",
       "      <td>...</td>\n",
       "      <td>Black</td>\n",
       "      <td>Front-wheel Drive</td>\n",
       "      <td>19</td>\n",
       "      <td>27</td>\n",
       "      <td>Gasoline</td>\n",
       "      <td>8-Speed Automatic</td>\n",
       "      <td>3.5L V6 24V PDI DOHC</td>\n",
       "      <td>5TDXZ3DC2KS015402</td>\n",
       "      <td>22998646</td>\n",
       "      <td>29403</td>\n",
       "    </tr>\n",
       "    <tr>\n",
       "      <th>1</th>\n",
       "      <td>2018</td>\n",
       "      <td>Ford</td>\n",
       "      <td>F-150 Lariat</td>\n",
       "      <td>Used</td>\n",
       "      <td>$49,985</td>\n",
       "      <td>4.8</td>\n",
       "      <td>817</td>\n",
       "      <td>Dealer</td>\n",
       "      <td>Giant Chevrolet</td>\n",
       "      <td>4.8</td>\n",
       "      <td>...</td>\n",
       "      <td>Black</td>\n",
       "      <td>Four-wheel Drive</td>\n",
       "      <td>19</td>\n",
       "      <td>24</td>\n",
       "      <td>Gasoline</td>\n",
       "      <td>10-Speed Automatic</td>\n",
       "      <td>3.5L V6 24V PDI DOHC Twin Turbo</td>\n",
       "      <td>1FTEW1EG2JFD44217</td>\n",
       "      <td>22418A</td>\n",
       "      <td>32929</td>\n",
       "    </tr>\n",
       "    <tr>\n",
       "      <th>2</th>\n",
       "      <td>2017</td>\n",
       "      <td>RAM</td>\n",
       "      <td>1500 Laramie</td>\n",
       "      <td>Used</td>\n",
       "      <td>$41,860</td>\n",
       "      <td>4.7</td>\n",
       "      <td>495</td>\n",
       "      <td>Dealer</td>\n",
       "      <td>Gill Auto Group Madera</td>\n",
       "      <td>4.6</td>\n",
       "      <td>...</td>\n",
       "      <td>Black</td>\n",
       "      <td>Four-wheel Drive</td>\n",
       "      <td>15</td>\n",
       "      <td>21</td>\n",
       "      <td>Gasoline</td>\n",
       "      <td>8-Speed Automatic</td>\n",
       "      <td>5.7L V8 16V MPFI OHV</td>\n",
       "      <td>1C6RR7VT5HS842283</td>\n",
       "      <td>NG277871G</td>\n",
       "      <td>23173</td>\n",
       "    </tr>\n",
       "    <tr>\n",
       "      <th>3</th>\n",
       "      <td>2021</td>\n",
       "      <td>Honda</td>\n",
       "      <td>Accord Sport SE</td>\n",
       "      <td>Used</td>\n",
       "      <td>$28,500</td>\n",
       "      <td>5.0</td>\n",
       "      <td>36</td>\n",
       "      <td>Dealer</td>\n",
       "      <td>AutoSavvy Las Vegas</td>\n",
       "      <td>4.6</td>\n",
       "      <td>...</td>\n",
       "      <td>–</td>\n",
       "      <td>Front-wheel Drive</td>\n",
       "      <td>29</td>\n",
       "      <td>35</td>\n",
       "      <td>Gasoline</td>\n",
       "      <td>Automatic CVT</td>\n",
       "      <td>1.5L I4 16V GDI DOHC Turbo</td>\n",
       "      <td>1HGCV1F49MA038035</td>\n",
       "      <td>54237</td>\n",
       "      <td>10598</td>\n",
       "    </tr>\n",
       "    <tr>\n",
       "      <th>4</th>\n",
       "      <td>2020</td>\n",
       "      <td>Lexus</td>\n",
       "      <td>RX 350</td>\n",
       "      <td>Used</td>\n",
       "      <td>$49,000</td>\n",
       "      <td>4.8</td>\n",
       "      <td>76</td>\n",
       "      <td>Dealer</td>\n",
       "      <td>Lexus of Henderson</td>\n",
       "      <td>4.8</td>\n",
       "      <td>...</td>\n",
       "      <td>Birch</td>\n",
       "      <td>Front-wheel Drive</td>\n",
       "      <td>20</td>\n",
       "      <td>27</td>\n",
       "      <td>Gasoline</td>\n",
       "      <td>8-Speed Automatic</td>\n",
       "      <td>3.5L V6 24V PDI DOHC</td>\n",
       "      <td>2T2AZMAA8LC156270</td>\n",
       "      <td>HDT4181A</td>\n",
       "      <td>28137</td>\n",
       "    </tr>\n",
       "  </tbody>\n",
       "</table>\n",
       "<p>5 rows × 32 columns</p>\n",
       "</div>"
      ],
      "text/plain": [
       "   Year    Make            Model Used/New    Price  ConsumerRating  \\\n",
       "0  2019  Toyota        Sienna SE     Used  $39,998             4.6   \n",
       "1  2018    Ford     F-150 Lariat     Used  $49,985             4.8   \n",
       "2  2017     RAM     1500 Laramie     Used  $41,860             4.7   \n",
       "3  2021   Honda  Accord Sport SE     Used  $28,500             5.0   \n",
       "4  2020   Lexus           RX 350     Used  $49,000             4.8   \n",
       "\n",
       "   ConsumerReviews SellerType  \\\n",
       "0               45     Dealer   \n",
       "1              817     Dealer   \n",
       "2              495     Dealer   \n",
       "3               36     Dealer   \n",
       "4               76     Dealer   \n",
       "\n",
       "                                          SellerName  SellerRating  ...  \\\n",
       "0  CarMax Murrieta - Now offering Curbside Pickup...           3.3  ...   \n",
       "1                                    Giant Chevrolet           4.8  ...   \n",
       "2                             Gill Auto Group Madera           4.6  ...   \n",
       "3                                AutoSavvy Las Vegas           4.6  ...   \n",
       "4                                 Lexus of Henderson           4.8  ...   \n",
       "\n",
       "   InteriorColor         Drivetrain MinMPG MaxMPG  FuelType  \\\n",
       "0          Black  Front-wheel Drive     19     27  Gasoline   \n",
       "1          Black   Four-wheel Drive     19     24  Gasoline   \n",
       "2          Black   Four-wheel Drive     15     21  Gasoline   \n",
       "3              –  Front-wheel Drive     29     35  Gasoline   \n",
       "4          Birch  Front-wheel Drive     20     27  Gasoline   \n",
       "\n",
       "         Transmission                           Engine                VIN  \\\n",
       "0   8-Speed Automatic             3.5L V6 24V PDI DOHC  5TDXZ3DC2KS015402   \n",
       "1  10-Speed Automatic  3.5L V6 24V PDI DOHC Twin Turbo  1FTEW1EG2JFD44217   \n",
       "2   8-Speed Automatic             5.7L V8 16V MPFI OHV  1C6RR7VT5HS842283   \n",
       "3       Automatic CVT       1.5L I4 16V GDI DOHC Turbo  1HGCV1F49MA038035   \n",
       "4   8-Speed Automatic             3.5L V6 24V PDI DOHC  2T2AZMAA8LC156270   \n",
       "\n",
       "      Stock#  Mileage  \n",
       "0   22998646    29403  \n",
       "1     22418A    32929  \n",
       "2  NG277871G    23173  \n",
       "3      54237    10598  \n",
       "4   HDT4181A    28137  \n",
       "\n",
       "[5 rows x 32 columns]"
      ]
     },
     "execution_count": 3,
     "metadata": {},
     "output_type": "execute_result"
    }
   ],
   "source": [
    "# data\n",
    "df_raw = pd.read_csv('./data/cars_raw.csv')\n",
    "df_raw.head(5)"
   ]
  },
  {
   "cell_type": "code",
   "execution_count": 4,
   "id": "c221275c",
   "metadata": {},
   "outputs": [
    {
     "data": {
      "text/html": [
       "<div>\n",
       "<style scoped>\n",
       "    .dataframe tbody tr th:only-of-type {\n",
       "        vertical-align: middle;\n",
       "    }\n",
       "\n",
       "    .dataframe tbody tr th {\n",
       "        vertical-align: top;\n",
       "    }\n",
       "\n",
       "    .dataframe thead th {\n",
       "        text-align: right;\n",
       "    }\n",
       "</style>\n",
       "<table border=\"1\" class=\"dataframe\">\n",
       "  <thead>\n",
       "    <tr style=\"text-align: right;\">\n",
       "      <th></th>\n",
       "      <th>Year</th>\n",
       "      <th>Make</th>\n",
       "      <th>Model</th>\n",
       "      <th>Used/New</th>\n",
       "      <th>Price</th>\n",
       "      <th>ConsumerRating</th>\n",
       "      <th>ConsumerReviews</th>\n",
       "      <th>SellerType</th>\n",
       "      <th>SellerName</th>\n",
       "      <th>SellerRating</th>\n",
       "      <th>...</th>\n",
       "      <th>InteriorColor</th>\n",
       "      <th>Drivetrain</th>\n",
       "      <th>MinMPG</th>\n",
       "      <th>MaxMPG</th>\n",
       "      <th>FuelType</th>\n",
       "      <th>Transmission</th>\n",
       "      <th>Engine</th>\n",
       "      <th>VIN</th>\n",
       "      <th>Stock#</th>\n",
       "      <th>Mileage</th>\n",
       "    </tr>\n",
       "  </thead>\n",
       "  <tbody>\n",
       "    <tr>\n",
       "      <th>6751</th>\n",
       "      <td>2019</td>\n",
       "      <td>Mercedes-Benz</td>\n",
       "      <td>C-Class C 300</td>\n",
       "      <td>Mercedes-Benz Certified</td>\n",
       "      <td>$33,998</td>\n",
       "      <td>4.8</td>\n",
       "      <td>40</td>\n",
       "      <td>Dealer</td>\n",
       "      <td>W.I. Simonson Inc.</td>\n",
       "      <td>4.5</td>\n",
       "      <td>...</td>\n",
       "      <td>Black</td>\n",
       "      <td>Rear-wheel Drive</td>\n",
       "      <td>23</td>\n",
       "      <td>34</td>\n",
       "      <td>Gasoline</td>\n",
       "      <td>9-Speed Automatic</td>\n",
       "      <td>2.0L I4 16V GDI DOHC Turbo</td>\n",
       "      <td>55SWF8DB2KU313816</td>\n",
       "      <td>SKU313816</td>\n",
       "      <td>17335</td>\n",
       "    </tr>\n",
       "    <tr>\n",
       "      <th>1781</th>\n",
       "      <td>2015</td>\n",
       "      <td>Porsche</td>\n",
       "      <td>Cayenne S</td>\n",
       "      <td>Used</td>\n",
       "      <td>$39,983</td>\n",
       "      <td>4.9</td>\n",
       "      <td>13</td>\n",
       "      <td>Dealer</td>\n",
       "      <td>Eastside Motoring</td>\n",
       "      <td>5.0</td>\n",
       "      <td>...</td>\n",
       "      <td>Black</td>\n",
       "      <td>All-wheel Drive</td>\n",
       "      <td>17</td>\n",
       "      <td>24</td>\n",
       "      <td>Gasoline</td>\n",
       "      <td>8-Speed Automatic</td>\n",
       "      <td>3.6L V6 24V GDI DOHC Twin Turbo</td>\n",
       "      <td>WP1AB2A2XFLA57158</td>\n",
       "      <td>A57158</td>\n",
       "      <td>59786</td>\n",
       "    </tr>\n",
       "    <tr>\n",
       "      <th>4912</th>\n",
       "      <td>2018</td>\n",
       "      <td>Mazda</td>\n",
       "      <td>CX-9 Touring</td>\n",
       "      <td>Used</td>\n",
       "      <td>$31,998</td>\n",
       "      <td>4.8</td>\n",
       "      <td>67</td>\n",
       "      <td>Dealer</td>\n",
       "      <td>CarMax Lynnwood - Now offering Curbside Pickup</td>\n",
       "      <td>1.5</td>\n",
       "      <td>...</td>\n",
       "      <td>Sand</td>\n",
       "      <td>All-wheel Drive</td>\n",
       "      <td>20</td>\n",
       "      <td>26</td>\n",
       "      <td>Gasoline</td>\n",
       "      <td>6-Speed Automatic</td>\n",
       "      <td>2.5L V6 24V</td>\n",
       "      <td>JM3TCBCY1J0201657</td>\n",
       "      <td>22617563</td>\n",
       "      <td>38060</td>\n",
       "    </tr>\n",
       "  </tbody>\n",
       "</table>\n",
       "<p>3 rows × 32 columns</p>\n",
       "</div>"
      ],
      "text/plain": [
       "      Year           Make          Model                 Used/New    Price  \\\n",
       "6751  2019  Mercedes-Benz  C-Class C 300  Mercedes-Benz Certified  $33,998   \n",
       "1781  2015        Porsche      Cayenne S                     Used  $39,983   \n",
       "4912  2018          Mazda   CX-9 Touring                     Used  $31,998   \n",
       "\n",
       "      ConsumerRating  ConsumerReviews SellerType  \\\n",
       "6751             4.8               40     Dealer   \n",
       "1781             4.9               13     Dealer   \n",
       "4912             4.8               67     Dealer   \n",
       "\n",
       "                                          SellerName  SellerRating  ...  \\\n",
       "6751                              W.I. Simonson Inc.           4.5  ...   \n",
       "1781                               Eastside Motoring           5.0  ...   \n",
       "4912  CarMax Lynnwood - Now offering Curbside Pickup           1.5  ...   \n",
       "\n",
       "      InteriorColor        Drivetrain MinMPG MaxMPG  FuelType  \\\n",
       "6751          Black  Rear-wheel Drive     23     34  Gasoline   \n",
       "1781          Black   All-wheel Drive     17     24  Gasoline   \n",
       "4912           Sand   All-wheel Drive     20     26  Gasoline   \n",
       "\n",
       "           Transmission                           Engine                VIN  \\\n",
       "6751  9-Speed Automatic       2.0L I4 16V GDI DOHC Turbo  55SWF8DB2KU313816   \n",
       "1781  8-Speed Automatic  3.6L V6 24V GDI DOHC Twin Turbo  WP1AB2A2XFLA57158   \n",
       "4912  6-Speed Automatic                      2.5L V6 24V  JM3TCBCY1J0201657   \n",
       "\n",
       "         Stock#  Mileage  \n",
       "6751  SKU313816    17335  \n",
       "1781     A57158    59786  \n",
       "4912   22617563    38060  \n",
       "\n",
       "[3 rows x 32 columns]"
      ]
     },
     "execution_count": 4,
     "metadata": {},
     "output_type": "execute_result"
    }
   ],
   "source": [
    "df_raw.sample(3)"
   ]
  },
  {
   "cell_type": "code",
   "execution_count": 5,
   "id": "e6421b3e",
   "metadata": {},
   "outputs": [
    {
     "data": {
      "text/plain": [
       "(9379, 32)"
      ]
     },
     "execution_count": 5,
     "metadata": {},
     "output_type": "execute_result"
    }
   ],
   "source": [
    "df_raw.shape"
   ]
  },
  {
   "cell_type": "code",
   "execution_count": 6,
   "id": "d6af3601",
   "metadata": {},
   "outputs": [
    {
     "name": "stdout",
     "output_type": "stream",
     "text": [
      "<class 'pandas.core.frame.DataFrame'>\n",
      "RangeIndex: 9379 entries, 0 to 9378\n",
      "Data columns (total 32 columns):\n",
      " #   Column                 Non-Null Count  Dtype  \n",
      "---  ------                 --------------  -----  \n",
      " 0   Year                   9379 non-null   int64  \n",
      " 1   Make                   9379 non-null   object \n",
      " 2   Model                  9379 non-null   object \n",
      " 3   Used/New               9379 non-null   object \n",
      " 4   Price                  9379 non-null   object \n",
      " 5   ConsumerRating         9379 non-null   float64\n",
      " 6   ConsumerReviews        9379 non-null   int64  \n",
      " 7   SellerType             9379 non-null   object \n",
      " 8   SellerName             9379 non-null   object \n",
      " 9   SellerRating           9379 non-null   float64\n",
      " 10  SellerReviews          9379 non-null   int64  \n",
      " 11  StreetName             9379 non-null   object \n",
      " 12  State                  9379 non-null   object \n",
      " 13  Zipcode                9379 non-null   object \n",
      " 14  DealType               9157 non-null   object \n",
      " 15  ComfortRating          9379 non-null   float64\n",
      " 16  InteriorDesignRating   9379 non-null   float64\n",
      " 17  PerformanceRating      9379 non-null   float64\n",
      " 18  ValueForMoneyRating    9379 non-null   float64\n",
      " 19  ExteriorStylingRating  9379 non-null   float64\n",
      " 20  ReliabilityRating      9379 non-null   float64\n",
      " 21  ExteriorColor          9379 non-null   object \n",
      " 22  InteriorColor          9379 non-null   object \n",
      " 23  Drivetrain             9379 non-null   object \n",
      " 24  MinMPG                 9379 non-null   int64  \n",
      " 25  MaxMPG                 9379 non-null   int64  \n",
      " 26  FuelType               9379 non-null   object \n",
      " 27  Transmission           9379 non-null   object \n",
      " 28  Engine                 9379 non-null   object \n",
      " 29  VIN                    9379 non-null   object \n",
      " 30  Stock#                 9379 non-null   object \n",
      " 31  Mileage                9379 non-null   int64  \n",
      "dtypes: float64(8), int64(6), object(18)\n",
      "memory usage: 2.3+ MB\n"
     ]
    }
   ],
   "source": [
    "df_raw.info()"
   ]
  },
  {
   "cell_type": "code",
   "execution_count": 7,
   "id": "8fe4142a",
   "metadata": {},
   "outputs": [
    {
     "data": {
      "text/html": [
       "<div>\n",
       "<style scoped>\n",
       "    .dataframe tbody tr th:only-of-type {\n",
       "        vertical-align: middle;\n",
       "    }\n",
       "\n",
       "    .dataframe tbody tr th {\n",
       "        vertical-align: top;\n",
       "    }\n",
       "\n",
       "    .dataframe thead th {\n",
       "        text-align: right;\n",
       "    }\n",
       "</style>\n",
       "<table border=\"1\" class=\"dataframe\">\n",
       "  <thead>\n",
       "    <tr style=\"text-align: right;\">\n",
       "      <th></th>\n",
       "      <th>Year</th>\n",
       "      <th>ConsumerRating</th>\n",
       "      <th>ConsumerReviews</th>\n",
       "      <th>SellerRating</th>\n",
       "      <th>SellerReviews</th>\n",
       "      <th>ComfortRating</th>\n",
       "      <th>InteriorDesignRating</th>\n",
       "      <th>PerformanceRating</th>\n",
       "      <th>ValueForMoneyRating</th>\n",
       "      <th>ExteriorStylingRating</th>\n",
       "      <th>ReliabilityRating</th>\n",
       "      <th>MinMPG</th>\n",
       "      <th>MaxMPG</th>\n",
       "      <th>Mileage</th>\n",
       "    </tr>\n",
       "  </thead>\n",
       "  <tbody>\n",
       "    <tr>\n",
       "      <th>count</th>\n",
       "      <td>9379.000000</td>\n",
       "      <td>9379.000000</td>\n",
       "      <td>9379.000000</td>\n",
       "      <td>9379.000000</td>\n",
       "      <td>9379.000000</td>\n",
       "      <td>9379.000000</td>\n",
       "      <td>9379.000000</td>\n",
       "      <td>9379.000000</td>\n",
       "      <td>9379.000000</td>\n",
       "      <td>9379.000000</td>\n",
       "      <td>9379.000000</td>\n",
       "      <td>9379.000000</td>\n",
       "      <td>9379.000000</td>\n",
       "      <td>9379.000000</td>\n",
       "    </tr>\n",
       "    <tr>\n",
       "      <th>mean</th>\n",
       "      <td>2018.721719</td>\n",
       "      <td>4.702825</td>\n",
       "      <td>133.187014</td>\n",
       "      <td>4.412571</td>\n",
       "      <td>984.089988</td>\n",
       "      <td>4.771895</td>\n",
       "      <td>4.727391</td>\n",
       "      <td>4.696290</td>\n",
       "      <td>4.537083</td>\n",
       "      <td>4.782194</td>\n",
       "      <td>4.681746</td>\n",
       "      <td>22.755411</td>\n",
       "      <td>29.216548</td>\n",
       "      <td>37463.023350</td>\n",
       "    </tr>\n",
       "    <tr>\n",
       "      <th>std</th>\n",
       "      <td>2.221708</td>\n",
       "      <td>0.240795</td>\n",
       "      <td>154.985640</td>\n",
       "      <td>0.626258</td>\n",
       "      <td>1609.039864</td>\n",
       "      <td>0.217822</td>\n",
       "      <td>0.194391</td>\n",
       "      <td>0.253664</td>\n",
       "      <td>0.338098</td>\n",
       "      <td>0.171537</td>\n",
       "      <td>0.368161</td>\n",
       "      <td>14.812869</td>\n",
       "      <td>12.809783</td>\n",
       "      <td>24970.342569</td>\n",
       "    </tr>\n",
       "    <tr>\n",
       "      <th>min</th>\n",
       "      <td>2001.000000</td>\n",
       "      <td>2.500000</td>\n",
       "      <td>1.000000</td>\n",
       "      <td>1.000000</td>\n",
       "      <td>1.000000</td>\n",
       "      <td>3.000000</td>\n",
       "      <td>2.800000</td>\n",
       "      <td>1.000000</td>\n",
       "      <td>1.000000</td>\n",
       "      <td>3.000000</td>\n",
       "      <td>1.000000</td>\n",
       "      <td>0.000000</td>\n",
       "      <td>0.000000</td>\n",
       "      <td>121.000000</td>\n",
       "    </tr>\n",
       "    <tr>\n",
       "      <th>25%</th>\n",
       "      <td>2018.000000</td>\n",
       "      <td>4.700000</td>\n",
       "      <td>30.000000</td>\n",
       "      <td>4.300000</td>\n",
       "      <td>112.000000</td>\n",
       "      <td>4.700000</td>\n",
       "      <td>4.700000</td>\n",
       "      <td>4.600000</td>\n",
       "      <td>4.500000</td>\n",
       "      <td>4.700000</td>\n",
       "      <td>4.600000</td>\n",
       "      <td>18.000000</td>\n",
       "      <td>25.000000</td>\n",
       "      <td>18666.500000</td>\n",
       "    </tr>\n",
       "    <tr>\n",
       "      <th>50%</th>\n",
       "      <td>2019.000000</td>\n",
       "      <td>4.800000</td>\n",
       "      <td>75.000000</td>\n",
       "      <td>4.600000</td>\n",
       "      <td>542.000000</td>\n",
       "      <td>4.800000</td>\n",
       "      <td>4.800000</td>\n",
       "      <td>4.700000</td>\n",
       "      <td>4.600000</td>\n",
       "      <td>4.800000</td>\n",
       "      <td>4.800000</td>\n",
       "      <td>20.000000</td>\n",
       "      <td>27.000000</td>\n",
       "      <td>32907.000000</td>\n",
       "    </tr>\n",
       "    <tr>\n",
       "      <th>75%</th>\n",
       "      <td>2020.000000</td>\n",
       "      <td>4.800000</td>\n",
       "      <td>182.000000</td>\n",
       "      <td>4.800000</td>\n",
       "      <td>1272.000000</td>\n",
       "      <td>4.900000</td>\n",
       "      <td>4.800000</td>\n",
       "      <td>4.800000</td>\n",
       "      <td>4.700000</td>\n",
       "      <td>4.900000</td>\n",
       "      <td>4.900000</td>\n",
       "      <td>24.000000</td>\n",
       "      <td>31.000000</td>\n",
       "      <td>47698.000000</td>\n",
       "    </tr>\n",
       "    <tr>\n",
       "      <th>max</th>\n",
       "      <td>2022.000000</td>\n",
       "      <td>5.000000</td>\n",
       "      <td>817.000000</td>\n",
       "      <td>5.000000</td>\n",
       "      <td>27824.000000</td>\n",
       "      <td>5.000000</td>\n",
       "      <td>5.000000</td>\n",
       "      <td>5.000000</td>\n",
       "      <td>5.000000</td>\n",
       "      <td>5.000000</td>\n",
       "      <td>5.000000</td>\n",
       "      <td>150.000000</td>\n",
       "      <td>133.000000</td>\n",
       "      <td>234114.000000</td>\n",
       "    </tr>\n",
       "  </tbody>\n",
       "</table>\n",
       "</div>"
      ],
      "text/plain": [
       "              Year  ConsumerRating  ConsumerReviews  SellerRating  \\\n",
       "count  9379.000000     9379.000000      9379.000000   9379.000000   \n",
       "mean   2018.721719        4.702825       133.187014      4.412571   \n",
       "std       2.221708        0.240795       154.985640      0.626258   \n",
       "min    2001.000000        2.500000         1.000000      1.000000   \n",
       "25%    2018.000000        4.700000        30.000000      4.300000   \n",
       "50%    2019.000000        4.800000        75.000000      4.600000   \n",
       "75%    2020.000000        4.800000       182.000000      4.800000   \n",
       "max    2022.000000        5.000000       817.000000      5.000000   \n",
       "\n",
       "       SellerReviews  ComfortRating  InteriorDesignRating  PerformanceRating  \\\n",
       "count    9379.000000    9379.000000           9379.000000        9379.000000   \n",
       "mean      984.089988       4.771895              4.727391           4.696290   \n",
       "std      1609.039864       0.217822              0.194391           0.253664   \n",
       "min         1.000000       3.000000              2.800000           1.000000   \n",
       "25%       112.000000       4.700000              4.700000           4.600000   \n",
       "50%       542.000000       4.800000              4.800000           4.700000   \n",
       "75%      1272.000000       4.900000              4.800000           4.800000   \n",
       "max     27824.000000       5.000000              5.000000           5.000000   \n",
       "\n",
       "       ValueForMoneyRating  ExteriorStylingRating  ReliabilityRating  \\\n",
       "count          9379.000000            9379.000000        9379.000000   \n",
       "mean              4.537083               4.782194           4.681746   \n",
       "std               0.338098               0.171537           0.368161   \n",
       "min               1.000000               3.000000           1.000000   \n",
       "25%               4.500000               4.700000           4.600000   \n",
       "50%               4.600000               4.800000           4.800000   \n",
       "75%               4.700000               4.900000           4.900000   \n",
       "max               5.000000               5.000000           5.000000   \n",
       "\n",
       "            MinMPG       MaxMPG        Mileage  \n",
       "count  9379.000000  9379.000000    9379.000000  \n",
       "mean     22.755411    29.216548   37463.023350  \n",
       "std      14.812869    12.809783   24970.342569  \n",
       "min       0.000000     0.000000     121.000000  \n",
       "25%      18.000000    25.000000   18666.500000  \n",
       "50%      20.000000    27.000000   32907.000000  \n",
       "75%      24.000000    31.000000   47698.000000  \n",
       "max     150.000000   133.000000  234114.000000  "
      ]
     },
     "execution_count": 7,
     "metadata": {},
     "output_type": "execute_result"
    }
   ],
   "source": [
    "df_raw.describe()"
   ]
  },
  {
   "cell_type": "code",
   "execution_count": 8,
   "id": "b2a5954d",
   "metadata": {},
   "outputs": [
    {
     "data": {
      "text/plain": [
       "Used/New\n",
       "Used                       7900\n",
       "BMW Certified               247\n",
       "Mercedes-Benz Certified     223\n",
       "Honda Certified             208\n",
       "Toyota Certified            153\n",
       "Cadillac Certified          105\n",
       "Ford Certified               71\n",
       "Subaru Certified             58\n",
       "Jeep Certified               55\n",
       "Nissan Certified             50\n",
       "Acura Certified              47\n",
       "Chevrolet Certified          40\n",
       "Kia Certified                34\n",
       "INFINITI Certified           34\n",
       "Volvo Certified              33\n",
       "Porsche Certified            25\n",
       "RAM Certified                24\n",
       "Buick Certified              20\n",
       "Volkswagen Certified         17\n",
       "GMC Certified                13\n",
       "Dodge Certified              10\n",
       "Alfa Romeo Certified          7\n",
       "Bentley Certified             2\n",
       "MINI Certified                1\n",
       "Ferrari Certified             1\n",
       "Maserati Certified            1\n",
       "Name: count, dtype: int64"
      ]
     },
     "execution_count": 8,
     "metadata": {},
     "output_type": "execute_result"
    }
   ],
   "source": [
    "df_raw['Used/New'].value_counts()"
   ]
  },
  {
   "cell_type": "code",
   "execution_count": 9,
   "id": "dfdca054",
   "metadata": {},
   "outputs": [
    {
     "name": "stdout",
     "output_type": "stream",
     "text": [
      "Used: 7900\n",
      "New: 1479\n"
     ]
    }
   ],
   "source": [
    "# count how many are NOT \"Used\"\n",
    "new_count = df_raw[df_raw[\"Used/New\"] != \"Used\"].shape[0]\n",
    "used_count = df_raw[df_raw[\"Used/New\"] == \"Used\"].shape[0]\n",
    "print(\"Used:\", used_count)\n",
    "print(\"New:\", new_count)"
   ]
  },
  {
   "cell_type": "code",
   "execution_count": 10,
   "id": "f6e57ece",
   "metadata": {},
   "outputs": [
    {
     "data": {
      "text/plain": [
       "np.True_"
      ]
     },
     "execution_count": 10,
     "metadata": {},
     "output_type": "execute_result"
    }
   ],
   "source": [
    "# check for NaN\n",
    "df_raw.isna().any().any()"
   ]
  },
  {
   "cell_type": "code",
   "execution_count": 11,
   "id": "5306f4bf",
   "metadata": {},
   "outputs": [
    {
     "data": {
      "text/plain": [
       "Year                       0\n",
       "Make                       0\n",
       "Model                      0\n",
       "Used/New                   0\n",
       "Price                      0\n",
       "ConsumerRating             0\n",
       "ConsumerReviews            0\n",
       "SellerType                 0\n",
       "SellerName                 0\n",
       "SellerRating               0\n",
       "SellerReviews              0\n",
       "StreetName                 0\n",
       "State                      0\n",
       "Zipcode                    0\n",
       "DealType                 222\n",
       "ComfortRating              0\n",
       "InteriorDesignRating       0\n",
       "PerformanceRating          0\n",
       "ValueForMoneyRating        0\n",
       "ExteriorStylingRating      0\n",
       "ReliabilityRating          0\n",
       "ExteriorColor              0\n",
       "InteriorColor              0\n",
       "Drivetrain                 0\n",
       "MinMPG                     0\n",
       "MaxMPG                     0\n",
       "FuelType                   0\n",
       "Transmission               0\n",
       "Engine                     0\n",
       "VIN                        0\n",
       "Stock#                     0\n",
       "Mileage                    0\n",
       "dtype: int64"
      ]
     },
     "execution_count": 11,
     "metadata": {},
     "output_type": "execute_result"
    }
   ],
   "source": [
    "df_raw.isna().sum()"
   ]
  },
  {
   "cell_type": "markdown",
   "id": "a0facb1a",
   "metadata": {},
   "source": [
    "#### Cars Data Visualization"
   ]
  },
  {
   "cell_type": "code",
   "execution_count": 12,
   "id": "19702ae7",
   "metadata": {},
   "outputs": [
    {
     "data": {
      "text/plain": [
       "Text(0.5, 1.0, 'Correlation Matrix (Lower value = stronger correlation)')"
      ]
     },
     "execution_count": 12,
     "metadata": {},
     "output_type": "execute_result"
    },
    {
     "data": {
      "image/png": "[encoded data removed]",
      "text/plain": [
       "<Figure size 640x480 with 2 Axes>"
      ]
     },
     "metadata": {},
     "output_type": "display_data"
    }
   ],
   "source": [
    "sns.heatmap(df_raw.corr(numeric_only=True), annot=True, cmap='coolwarm')\n",
    "plt.title(\"Correlation Matrix (Lower value = stronger correlation)\", fontsize=16, fontweight='bold')"
   ]
  },
  {
   "cell_type": "code",
   "execution_count": 13,
   "id": "9bca1c4a",
   "metadata": {},
   "outputs": [
    {
     "data": {
      "text/plain": [
       "Text(0.5, 1.0, 'Reliability Ratings Distribution')"
      ]
     },
     "execution_count": 13,
     "metadata": {},
     "output_type": "execute_result"
    },
    {
     "data": {
      "image/png": "[encoded data removed]",
      "text/plain": [
       "<Figure size 640x480 with 1 Axes>"
      ]
     },
     "metadata": {},
     "output_type": "display_data"
    }
   ],
   "source": [
    "# heat map of Reliability ratings\n",
    "plt.hist(df_raw['ReliabilityRating'], bins=20)\n",
    "plt.title('Reliability Ratings Distribution')"
   ]
  },
  {
   "cell_type": "code",
   "execution_count": 14,
   "id": "ab239289",
   "metadata": {},
   "outputs": [
    {
     "data": {
      "text/plain": [
       "(28, 32)"
      ]
     },
     "execution_count": 14,
     "metadata": {},
     "output_type": "execute_result"
    }
   ],
   "source": [
    "# Reliability ratings under 2\n",
    "df_raw[df_raw['ReliabilityRating'] < 2].shape"
   ]
  },
  {
   "cell_type": "code",
   "execution_count": 15,
   "id": "18569aba",
   "metadata": {},
   "outputs": [
    {
     "data": {
      "text/plain": [
       "Text(0.5, 1.0, 'Comfort Ratings Distribution')"
      ]
     },
     "execution_count": 15,
     "metadata": {},
     "output_type": "execute_result"
    },
    {
     "data": {
      "image/png": "[encoded data removed]",
      "text/plain": [
       "<Figure size 640x480 with 1 Axes>"
      ]
     },
     "metadata": {},
     "output_type": "display_data"
    }
   ],
   "source": [
    "# heat map of Comfort ratings\n",
    "plt.hist(df_raw['ComfortRating'], bins=20)\n",
    "plt.title('Comfort Ratings Distribution')"
   ]
  },
  {
   "cell_type": "code",
   "execution_count": 16,
   "id": "ac0a8919",
   "metadata": {},
   "outputs": [
    {
     "data": {
      "text/plain": [
       "<Axes: xlabel='Make'>"
      ]
     },
     "execution_count": 16,
     "metadata": {},
     "output_type": "execute_result"
    },
    {
     "data": {
      "image/png": "[encoded data removed]",
      "text/plain": [
       "<Figure size 1200x600 with 1 Axes>"
      ]
     },
     "metadata": {},
     "output_type": "display_data"
    }
   ],
   "source": [
    "# Heatmap for car make\n",
    "plt.figure(figsize=(12, 6))\n",
    "df_raw['Make'].value_counts().plot(kind='bar')"
   ]
  },
  {
   "cell_type": "markdown",
   "id": "bfb8d05b",
   "metadata": {},
   "source": [
    "### EDA: Car ratings data (Review.csv)"
   ]
  },
  {
   "cell_type": "code",
   "execution_count": 17,
   "id": "3cf89241",
   "metadata": {},
   "outputs": [
    {
     "data": {
      "text/html": [
       "<div>\n",
       "<style scoped>\n",
       "    .dataframe tbody tr th:only-of-type {\n",
       "        vertical-align: middle;\n",
       "    }\n",
       "\n",
       "    .dataframe tbody tr th {\n",
       "        vertical-align: top;\n",
       "    }\n",
       "\n",
       "    .dataframe thead th {\n",
       "        text-align: right;\n",
       "    }\n",
       "</style>\n",
       "<table border=\"1\" class=\"dataframe\">\n",
       "  <thead>\n",
       "    <tr style=\"text-align: right;\">\n",
       "      <th></th>\n",
       "      <th>Company</th>\n",
       "      <th>Model</th>\n",
       "      <th>Year</th>\n",
       "      <th>Reviewer</th>\n",
       "      <th>Date</th>\n",
       "      <th>Unnamed: 5</th>\n",
       "      <th>Rating</th>\n",
       "      <th>Unnamed: 7</th>\n",
       "    </tr>\n",
       "  </thead>\n",
       "  <tbody>\n",
       "    <tr>\n",
       "      <th>0</th>\n",
       "      <td>acura</td>\n",
       "      <td>ilx</td>\n",
       "      <td>2013</td>\n",
       "      <td>mahowald</td>\n",
       "      <td>08/12/2012</td>\n",
       "      <td>NaN</td>\n",
       "      <td>5</td>\n",
       "      <td>NaN</td>\n",
       "    </tr>\n",
       "    <tr>\n",
       "      <th>1</th>\n",
       "      <td>acura</td>\n",
       "      <td>ilx</td>\n",
       "      <td>2013</td>\n",
       "      <td>VIP</td>\n",
       "      <td>07/26/2016</td>\n",
       "      <td>NaN</td>\n",
       "      <td>5</td>\n",
       "      <td>NaN</td>\n",
       "    </tr>\n",
       "    <tr>\n",
       "      <th>2</th>\n",
       "      <td>acura</td>\n",
       "      <td>ilx</td>\n",
       "      <td>2013</td>\n",
       "      <td>bybchucky</td>\n",
       "      <td>09/14/2013</td>\n",
       "      <td>NaN</td>\n",
       "      <td>4</td>\n",
       "      <td>NaN</td>\n",
       "    </tr>\n",
       "  </tbody>\n",
       "</table>\n",
       "</div>"
      ],
      "text/plain": [
       "  Company Model  Year   Reviewer         Date  Unnamed: 5  Rating  Unnamed: 7\n",
       "0   acura   ilx  2013   mahowald   08/12/2012         NaN       5         NaN\n",
       "1   acura   ilx  2013        VIP   07/26/2016         NaN       5         NaN\n",
       "2   acura   ilx  2013  bybchucky   09/14/2013         NaN       4         NaN"
      ]
     },
     "execution_count": 17,
     "metadata": {},
     "output_type": "execute_result"
    }
   ],
   "source": [
    "df_ratings_raw = pd.read_csv(\"./data/review.csv\")\n",
    "df_ratings_raw.head(3)"
   ]
  },
  {
   "cell_type": "code",
   "execution_count": 18,
   "id": "031d65ce",
   "metadata": {},
   "outputs": [
    {
     "data": {
      "text/html": [
       "<div>\n",
       "<style scoped>\n",
       "    .dataframe tbody tr th:only-of-type {\n",
       "        vertical-align: middle;\n",
       "    }\n",
       "\n",
       "    .dataframe tbody tr th {\n",
       "        vertical-align: top;\n",
       "    }\n",
       "\n",
       "    .dataframe thead th {\n",
       "        text-align: right;\n",
       "    }\n",
       "</style>\n",
       "<table border=\"1\" class=\"dataframe\">\n",
       "  <thead>\n",
       "    <tr style=\"text-align: right;\">\n",
       "      <th></th>\n",
       "      <th>Company</th>\n",
       "      <th>Model</th>\n",
       "      <th>Year</th>\n",
       "      <th>Reviewer</th>\n",
       "      <th>Date</th>\n",
       "      <th>Rating</th>\n",
       "    </tr>\n",
       "  </thead>\n",
       "  <tbody>\n",
       "    <tr>\n",
       "      <th>0</th>\n",
       "      <td>acura</td>\n",
       "      <td>ilx</td>\n",
       "      <td>2013</td>\n",
       "      <td>mahowald</td>\n",
       "      <td>08/12/2012</td>\n",
       "      <td>5</td>\n",
       "    </tr>\n",
       "    <tr>\n",
       "      <th>1</th>\n",
       "      <td>acura</td>\n",
       "      <td>ilx</td>\n",
       "      <td>2013</td>\n",
       "      <td>VIP</td>\n",
       "      <td>07/26/2016</td>\n",
       "      <td>5</td>\n",
       "    </tr>\n",
       "  </tbody>\n",
       "</table>\n",
       "</div>"
      ],
      "text/plain": [
       "  Company Model  Year  Reviewer         Date  Rating\n",
       "0   acura   ilx  2013  mahowald   08/12/2012       5\n",
       "1   acura   ilx  2013       VIP   07/26/2016       5"
      ]
     },
     "execution_count": 18,
     "metadata": {},
     "output_type": "execute_result"
    }
   ],
   "source": [
    "# remove ghost columns\n",
    "df_ratings_raw = df_ratings_raw.drop(columns=[\"Unnamed: 5\", \"Unnamed: 7\"])\n",
    "df_ratings_raw.head(2)"
   ]
  },
  {
   "cell_type": "code",
   "execution_count": 19,
   "id": "6766e286",
   "metadata": {},
   "outputs": [
    {
     "data": {
      "text/plain": [
       "(299045, 6)"
      ]
     },
     "execution_count": 19,
     "metadata": {},
     "output_type": "execute_result"
    }
   ],
   "source": [
    "df_ratings_raw.shape"
   ]
  },
  {
   "cell_type": "code",
   "execution_count": 20,
   "id": "c0e025a9",
   "metadata": {},
   "outputs": [
    {
     "name": "stdout",
     "output_type": "stream",
     "text": [
      "<class 'pandas.core.frame.DataFrame'>\n",
      "RangeIndex: 299045 entries, 0 to 299044\n",
      "Data columns (total 6 columns):\n",
      " #   Column    Non-Null Count   Dtype \n",
      "---  ------    --------------   ----- \n",
      " 0   Company   299045 non-null  object\n",
      " 1   Model     299045 non-null  object\n",
      " 2   Year      299045 non-null  int64 \n",
      " 3   Reviewer  298938 non-null  object\n",
      " 4   Date      299028 non-null  object\n",
      " 5   Rating    299045 non-null  int64 \n",
      "dtypes: int64(2), object(4)\n",
      "memory usage: 13.7+ MB\n"
     ]
    }
   ],
   "source": [
    "df_ratings_raw.info()"
   ]
  },
  {
   "cell_type": "code",
   "execution_count": 21,
   "id": "825d38fb",
   "metadata": {},
   "outputs": [
    {
     "data": {
      "text/plain": [
       "count    299045.000000\n",
       "mean          3.980886\n",
       "std           0.993001\n",
       "min           0.000000\n",
       "25%           4.000000\n",
       "50%           4.000000\n",
       "75%           5.000000\n",
       "max           5.000000\n",
       "Name: Rating, dtype: float64"
      ]
     },
     "execution_count": 21,
     "metadata": {},
     "output_type": "execute_result"
    }
   ],
   "source": [
    "df_ratings_raw[\"Rating\"].describe()"
   ]
  },
  {
   "cell_type": "code",
   "execution_count": 22,
   "id": "f50e198a",
   "metadata": {},
   "outputs": [
    {
     "data": {
      "text/plain": [
       "np.True_"
      ]
     },
     "execution_count": 22,
     "metadata": {},
     "output_type": "execute_result"
    }
   ],
   "source": [
    "# check for NaN\n",
    "df_ratings_raw.isna().any().any()"
   ]
  },
  {
   "cell_type": "code",
   "execution_count": 23,
   "id": "969de3cd",
   "metadata": {},
   "outputs": [
    {
     "data": {
      "text/plain": [
       "Company       0\n",
       "Model         0\n",
       "Year          0\n",
       "Reviewer    107\n",
       "Date         17\n",
       "Rating        0\n",
       "dtype: int64"
      ]
     },
     "execution_count": 23,
     "metadata": {},
     "output_type": "execute_result"
    }
   ],
   "source": [
    "df_ratings_raw.isna().sum()"
   ]
  },
  {
   "cell_type": "code",
   "execution_count": 24,
   "id": "e1497118",
   "metadata": {},
   "outputs": [
    {
     "data": {
      "text/html": [
       "<div>\n",
       "<style scoped>\n",
       "    .dataframe tbody tr th:only-of-type {\n",
       "        vertical-align: middle;\n",
       "    }\n",
       "\n",
       "    .dataframe tbody tr th {\n",
       "        vertical-align: top;\n",
       "    }\n",
       "\n",
       "    .dataframe thead th {\n",
       "        text-align: right;\n",
       "    }\n",
       "</style>\n",
       "<table border=\"1\" class=\"dataframe\">\n",
       "  <thead>\n",
       "    <tr style=\"text-align: right;\">\n",
       "      <th></th>\n",
       "      <th>Company</th>\n",
       "      <th>Model</th>\n",
       "      <th>Year</th>\n",
       "      <th>Reviewer</th>\n",
       "      <th>Date</th>\n",
       "      <th>Rating</th>\n",
       "    </tr>\n",
       "  </thead>\n",
       "  <tbody>\n",
       "    <tr>\n",
       "      <th>3200</th>\n",
       "      <td>acura</td>\n",
       "      <td>rlx</td>\n",
       "      <td>2016</td>\n",
       "      <td>NaN</td>\n",
       "      <td>12/28/2018</td>\n",
       "      <td>3</td>\n",
       "    </tr>\n",
       "    <tr>\n",
       "      <th>5605</th>\n",
       "      <td>acura</td>\n",
       "      <td>tl</td>\n",
       "      <td>2002</td>\n",
       "      <td>NaN</td>\n",
       "      <td>12/07/2002</td>\n",
       "      <td>4</td>\n",
       "    </tr>\n",
       "    <tr>\n",
       "      <th>9318</th>\n",
       "      <td>audi</td>\n",
       "      <td>a4</td>\n",
       "      <td>2002</td>\n",
       "      <td>NaN</td>\n",
       "      <td>05/08/2002</td>\n",
       "      <td>4</td>\n",
       "    </tr>\n",
       "    <tr>\n",
       "      <th>9321</th>\n",
       "      <td>audi</td>\n",
       "      <td>a4</td>\n",
       "      <td>2002</td>\n",
       "      <td>NaN</td>\n",
       "      <td>05/08/2002</td>\n",
       "      <td>5</td>\n",
       "    </tr>\n",
       "    <tr>\n",
       "      <th>10224</th>\n",
       "      <td>audi</td>\n",
       "      <td>a4</td>\n",
       "      <td>2007</td>\n",
       "      <td>NaN</td>\n",
       "      <td>09/06/2007</td>\n",
       "      <td>4</td>\n",
       "    </tr>\n",
       "    <tr>\n",
       "      <th>...</th>\n",
       "      <td>...</td>\n",
       "      <td>...</td>\n",
       "      <td>...</td>\n",
       "      <td>...</td>\n",
       "      <td>...</td>\n",
       "      <td>...</td>\n",
       "    </tr>\n",
       "    <tr>\n",
       "      <th>290880</th>\n",
       "      <td>volkswagen</td>\n",
       "      <td>new-beetle</td>\n",
       "      <td>2001</td>\n",
       "      <td>NaN</td>\n",
       "      <td>01/15/2003</td>\n",
       "      <td>4</td>\n",
       "    </tr>\n",
       "    <tr>\n",
       "      <th>291089</th>\n",
       "      <td>volkswagen</td>\n",
       "      <td>new-beetle</td>\n",
       "      <td>2003</td>\n",
       "      <td>NaN</td>\n",
       "      <td>08/14/2002</td>\n",
       "      <td>4</td>\n",
       "    </tr>\n",
       "    <tr>\n",
       "      <th>291780</th>\n",
       "      <td>volkswagen</td>\n",
       "      <td>phaeton</td>\n",
       "      <td>2004</td>\n",
       "      <td>NaN</td>\n",
       "      <td>12/11/2003</td>\n",
       "      <td>4</td>\n",
       "    </tr>\n",
       "    <tr>\n",
       "      <th>295142</th>\n",
       "      <td>volvo</td>\n",
       "      <td>xc90</td>\n",
       "      <td>2003</td>\n",
       "      <td>NaN</td>\n",
       "      <td>01/16/2003</td>\n",
       "      <td>5</td>\n",
       "    </tr>\n",
       "    <tr>\n",
       "      <th>298329</th>\n",
       "      <td>volvo</td>\n",
       "      <td>v70</td>\n",
       "      <td>2001</td>\n",
       "      <td>NaN</td>\n",
       "      <td>04/17/2003</td>\n",
       "      <td>4</td>\n",
       "    </tr>\n",
       "  </tbody>\n",
       "</table>\n",
       "<p>124 rows × 6 columns</p>\n",
       "</div>"
      ],
      "text/plain": [
       "           Company       Model  Year Reviewer         Date  Rating\n",
       "3200         acura         rlx  2016      NaN   12/28/2018       3\n",
       "5605         acura          tl  2002      NaN   12/07/2002       4\n",
       "9318          audi          a4  2002      NaN   05/08/2002       4\n",
       "9321          audi          a4  2002      NaN   05/08/2002       5\n",
       "10224         audi          a4  2007      NaN   09/06/2007       4\n",
       "...            ...         ...   ...      ...          ...     ...\n",
       "290880  volkswagen  new-beetle  2001      NaN   01/15/2003       4\n",
       "291089  volkswagen  new-beetle  2003      NaN   08/14/2002       4\n",
       "291780  volkswagen     phaeton  2004      NaN   12/11/2003       4\n",
       "295142       volvo        xc90  2003      NaN   01/16/2003       5\n",
       "298329       volvo         v70  2001      NaN   04/17/2003       4\n",
       "\n",
       "[124 rows x 6 columns]"
      ]
     },
     "execution_count": 24,
     "metadata": {},
     "output_type": "execute_result"
    }
   ],
   "source": [
    "df_ratings_raw[df_ratings_raw.isna().any(axis=1)]\n"
   ]
  },
  {
   "cell_type": "markdown",
   "id": "85b3e208",
   "metadata": {},
   "source": [
    "#### Car ratings data Visualizations"
   ]
  },
  {
   "cell_type": "code",
   "execution_count": 25,
   "id": "8369dbcd",
   "metadata": {},
   "outputs": [
    {
     "data": {
      "text/plain": [
       "Text(0.5, 1.0, 'Ratings Distribution')"
      ]
     },
     "execution_count": 25,
     "metadata": {},
     "output_type": "execute_result"
    },
    {
     "data": {
      "image/png": "[encoded data removed]",
      "text/plain": [
       "<Figure size 640x480 with 1 Axes>"
      ]
     },
     "metadata": {},
     "output_type": "display_data"
    }
   ],
   "source": [
    "# ratings barchart\n",
    "df_ratings_raw['Rating'].value_counts().sort_index().plot(kind='bar')\n",
    "plt.title('Ratings Distribution')"
   ]
  },
  {
   "cell_type": "markdown",
   "id": "64768b89",
   "metadata": {},
   "source": [
    "## Preprocessing datasets"
   ]
  },
  {
   "cell_type": "markdown",
   "id": "fe26dd42",
   "metadata": {},
   "source": [
    "### Cars for sale data"
   ]
  },
  {
   "cell_type": "code",
   "execution_count": 26,
   "id": "6a4cc3e4",
   "metadata": {},
   "outputs": [],
   "source": [
    "df_cars = df_raw.copy()"
   ]
  },
  {
   "cell_type": "code",
   "execution_count": 27,
   "id": "7e99560f",
   "metadata": {},
   "outputs": [],
   "source": [
    "# remove unwanted columns\n",
    "df_cars = df_cars.drop(columns=[\"ConsumerRating\", \"ConsumerReviews\", \"SellerName\", \"SellerRating\", \"SellerReviews\", \"InteriorColor\", \"Zipcode\", \"State\", \"DealType\", \"StreetName\", \"Stock#\", \"VIN\", \"Engine\"])"
   ]
  },
  {
   "cell_type": "code",
   "execution_count": 28,
   "id": "783aa652",
   "metadata": {},
   "outputs": [
    {
     "data": {
      "text/plain": [
       "Used/New\n",
       "Used    7900\n",
       "New     1479\n",
       "Name: count, dtype: int64"
      ]
     },
     "execution_count": 28,
     "metadata": {},
     "output_type": "execute_result"
    }
   ],
   "source": [
    "# Simplify \"Used/New\" column to just \"Used\" and \"New\"\n",
    "df_cars[\"Used/New\"] = df_cars[\"Used/New\"].apply(\n",
    "    lambda x: \"Used\" if x == \"Used\" else \"New\"\n",
    ")\n",
    "df_cars['Used/New'].value_counts()"
   ]
  },
  {
   "cell_type": "code",
   "execution_count": 29,
   "id": "8e5db92a",
   "metadata": {},
   "outputs": [
    {
     "name": "stdout",
     "output_type": "stream",
     "text": [
      "float64\n"
     ]
    },
    {
     "name": "stderr",
     "output_type": "stream",
     "text": [
      "<>:4: SyntaxWarning: invalid escape sequence '\\$'\n",
      "<>:4: SyntaxWarning: invalid escape sequence '\\$'\n",
      "C:\\Users\\Nikla_000\\AppData\\Local\\Temp\\ipykernel_9656\\209616860.py:4: SyntaxWarning: invalid escape sequence '\\$'\n",
      "  .replace('[\\$,]', '', regex=True)  # remove $ and ,\n"
     ]
    },
    {
     "data": {
      "text/plain": [
       "0    39998.0\n",
       "1    49985.0\n",
       "2    41860.0\n",
       "Name: Price, dtype: float64"
      ]
     },
     "execution_count": 29,
     "metadata": {},
     "output_type": "execute_result"
    }
   ],
   "source": [
    "# PRICE COLUMN: Remove $ and commas, then convert to float\n",
    "df_cars['Price'] = (\n",
    "    df_cars['Price']\n",
    "    .replace('[\\$,]', '', regex=True)  # remove $ and ,\n",
    "    .replace('Not Priced', None)  # replace 'Not Priced' with None\n",
    ")\n",
    "# Convert to float\n",
    "df_cars['Price'] = pd.to_numeric(df_cars['Price'], errors='coerce')\n",
    "\n",
    "print(df_cars['Price'].dtype)\n",
    "df_cars['Price'].head(3)"
   ]
  },
  {
   "cell_type": "code",
   "execution_count": 30,
   "id": "d9a0c898",
   "metadata": {},
   "outputs": [
    {
     "data": {
      "text/plain": [
       "Transmission\n",
       "Automatic    9174\n",
       "Manual        205\n",
       "Name: count, dtype: int64"
      ]
     },
     "execution_count": 30,
     "metadata": {},
     "output_type": "execute_result"
    }
   ],
   "source": [
    "# TRANSMISSION COLUMN: Simplify to just \"Automatic\" and \"Manual\"\n",
    "df_cars['Transmission'] = df_cars['Transmission'].apply(\n",
    "    lambda x: 'Automatic' if 'auto' in str(x).lower() else 'Manual'\n",
    ")\n",
    "# check unique values\n",
    "df_cars['Transmission'].value_counts()"
   ]
  },
  {
   "cell_type": "code",
   "execution_count": 31,
   "id": "4ceb70c8",
   "metadata": {},
   "outputs": [],
   "source": [
    "# ensure consistent naming in \"Make\" and \"Model\" columns\n",
    "df_cars['Make'] = df_cars['Make'].str.strip().str.lower()\n",
    "df_cars['Model'] = df_cars['Model'].str.strip().str.lower()"
   ]
  },
  {
   "cell_type": "code",
   "execution_count": 32,
   "id": "9f26118c",
   "metadata": {},
   "outputs": [],
   "source": [
    "# create carkey for each Make-Model-Year combination\n",
    "df_cars['car_key'] = df_cars['Make'] + \"_\" + df_cars['Model'] + \"_\" + df_cars['Year'].astype(str)"
   ]
  },
  {
   "cell_type": "code",
   "execution_count": 33,
   "id": "c6324cff",
   "metadata": {},
   "outputs": [
    {
     "data": {
      "text/plain": [
       "(2469, 20)"
      ]
     },
     "execution_count": 33,
     "metadata": {},
     "output_type": "execute_result"
    }
   ],
   "source": [
    "# remove duplicates based on car_key\n",
    "df_cars = df_cars.drop_duplicates(subset=['car_key']).reset_index(drop=True)\n",
    "df_cars.shape"
   ]
  },
  {
   "cell_type": "code",
   "execution_count": 34,
   "id": "b2ec3c99",
   "metadata": {},
   "outputs": [],
   "source": [
    "# create carid for each unique car in df_cars\n",
    "df_cars['carid'] = df_cars.index + 1"
   ]
  },
  {
   "cell_type": "markdown",
   "id": "8bb562eb",
   "metadata": {},
   "source": [
    "### Preprocess: Car ratings data"
   ]
  },
  {
   "cell_type": "code",
   "execution_count": 35,
   "id": "73b41ebb",
   "metadata": {},
   "outputs": [],
   "source": [
    "df_ratings = df_ratings_raw.copy()"
   ]
  },
  {
   "cell_type": "code",
   "execution_count": 36,
   "id": "a185151a",
   "metadata": {},
   "outputs": [],
   "source": [
    "# rename column for consistency\n",
    "df_ratings.rename(columns={\"Company\": \"Make\"}, inplace=True)"
   ]
  },
  {
   "cell_type": "code",
   "execution_count": 37,
   "id": "afb1d102",
   "metadata": {},
   "outputs": [
    {
     "data": {
      "text/plain": [
       "np.False_"
      ]
     },
     "execution_count": 37,
     "metadata": {},
     "output_type": "execute_result"
    }
   ],
   "source": [
    "# drop rows with NaN in \"Date\" or \"Reviewer\"\n",
    "df_ratings = df_ratings.dropna(subset=[\"Date\", \"Reviewer\"])\n",
    "df_ratings.isna().any().any()"
   ]
  },
  {
   "cell_type": "code",
   "execution_count": 38,
   "id": "8325f486",
   "metadata": {},
   "outputs": [],
   "source": [
    "# create unique userID for each Reviewer\n",
    "df_ratings['userID'] = df_ratings['Reviewer'].astype('category').cat.codes + 1"
   ]
  },
  {
   "cell_type": "code",
   "execution_count": 39,
   "id": "e82710b0",
   "metadata": {},
   "outputs": [],
   "source": [
    "# ensure consistent naming in \"Make\" and \"Model\" columns\n",
    "df_ratings['Make'] = df_ratings['Make'].str.strip().str.lower()\n",
    "df_ratings['Model'] = df_ratings['Model'].str.strip().str.lower()"
   ]
  },
  {
   "cell_type": "markdown",
   "id": "d4ddba62",
   "metadata": {},
   "source": [
    "### Tables working together"
   ]
  },
  {
   "cell_type": "code",
   "execution_count": 40,
   "id": "3d1c308c",
   "metadata": {},
   "outputs": [],
   "source": [
    "import re\n",
    "\n",
    "def clean_model(model):\n",
    "    \"\"\"Remove common trim-levels from car model names.\"\"\"\n",
    "    # Remove common trim-levels (case insensitive)\n",
    "    return re.sub(r'\\b(se|le|xle|lx|ex|sport|limited|platinum|plus|4MATIC|R/T|xl|sl|sr|base)\\b', '', str(model).lower()).strip()"
   ]
  },
  {
   "cell_type": "code",
   "execution_count": 41,
   "id": "17b964a9",
   "metadata": {},
   "outputs": [
    {
     "data": {
      "text/html": [
       "<div>\n",
       "<style scoped>\n",
       "    .dataframe tbody tr th:only-of-type {\n",
       "        vertical-align: middle;\n",
       "    }\n",
       "\n",
       "    .dataframe tbody tr th {\n",
       "        vertical-align: top;\n",
       "    }\n",
       "\n",
       "    .dataframe thead th {\n",
       "        text-align: right;\n",
       "    }\n",
       "</style>\n",
       "<table border=\"1\" class=\"dataframe\">\n",
       "  <thead>\n",
       "    <tr style=\"text-align: right;\">\n",
       "      <th></th>\n",
       "      <th>Make</th>\n",
       "      <th>Model</th>\n",
       "      <th>Year</th>\n",
       "      <th>Reviewer</th>\n",
       "      <th>Date</th>\n",
       "      <th>Rating</th>\n",
       "      <th>userID</th>\n",
       "    </tr>\n",
       "  </thead>\n",
       "  <tbody>\n",
       "    <tr>\n",
       "      <th>0</th>\n",
       "      <td>acura</td>\n",
       "      <td>ilx</td>\n",
       "      <td>2013</td>\n",
       "      <td>mahowald</td>\n",
       "      <td>08/12/2012</td>\n",
       "      <td>5</td>\n",
       "      <td>174180</td>\n",
       "    </tr>\n",
       "    <tr>\n",
       "      <th>1</th>\n",
       "      <td>acura</td>\n",
       "      <td>ilx</td>\n",
       "      <td>2013</td>\n",
       "      <td>VIP</td>\n",
       "      <td>07/26/2016</td>\n",
       "      <td>5</td>\n",
       "      <td>118905</td>\n",
       "    </tr>\n",
       "    <tr>\n",
       "      <th>2</th>\n",
       "      <td>acura</td>\n",
       "      <td>ilx</td>\n",
       "      <td>2013</td>\n",
       "      <td>bybchucky</td>\n",
       "      <td>09/14/2013</td>\n",
       "      <td>4</td>\n",
       "      <td>134910</td>\n",
       "    </tr>\n",
       "    <tr>\n",
       "      <th>3</th>\n",
       "      <td>acura</td>\n",
       "      <td>ilx</td>\n",
       "      <td>2013</td>\n",
       "      <td>bayareamom</td>\n",
       "      <td>01/26/2015</td>\n",
       "      <td>4</td>\n",
       "      <td>129574</td>\n",
       "    </tr>\n",
       "    <tr>\n",
       "      <th>4</th>\n",
       "      <td>acura</td>\n",
       "      <td>ilx</td>\n",
       "      <td>2013</td>\n",
       "      <td>Kerry Olson</td>\n",
       "      <td>03/26/2016</td>\n",
       "      <td>5</td>\n",
       "      <td>65542</td>\n",
       "    </tr>\n",
       "    <tr>\n",
       "      <th>...</th>\n",
       "      <td>...</td>\n",
       "      <td>...</td>\n",
       "      <td>...</td>\n",
       "      <td>...</td>\n",
       "      <td>...</td>\n",
       "      <td>...</td>\n",
       "      <td>...</td>\n",
       "    </tr>\n",
       "    <tr>\n",
       "      <th>299040</th>\n",
       "      <td>volvo</td>\n",
       "      <td>xc70</td>\n",
       "      <td>2016</td>\n",
       "      <td>FirstVolvo</td>\n",
       "      <td>03/18/2017</td>\n",
       "      <td>5</td>\n",
       "      <td>39155</td>\n",
       "    </tr>\n",
       "    <tr>\n",
       "      <th>299041</th>\n",
       "      <td>volvo</td>\n",
       "      <td>xc70</td>\n",
       "      <td>2016</td>\n",
       "      <td>Dhp</td>\n",
       "      <td>01/26/2016</td>\n",
       "      <td>5</td>\n",
       "      <td>31382</td>\n",
       "    </tr>\n",
       "    <tr>\n",
       "      <th>299042</th>\n",
       "      <td>volvo</td>\n",
       "      <td>xc70</td>\n",
       "      <td>2016</td>\n",
       "      <td>Lisa B</td>\n",
       "      <td>05/03/2016</td>\n",
       "      <td>5</td>\n",
       "      <td>70799</td>\n",
       "    </tr>\n",
       "    <tr>\n",
       "      <th>299043</th>\n",
       "      <td>volvo</td>\n",
       "      <td>xc70</td>\n",
       "      <td>2016</td>\n",
       "      <td>Milan</td>\n",
       "      <td>05/04/2019</td>\n",
       "      <td>5</td>\n",
       "      <td>80618</td>\n",
       "    </tr>\n",
       "    <tr>\n",
       "      <th>299044</th>\n",
       "      <td>volvo</td>\n",
       "      <td>xc70</td>\n",
       "      <td>2016</td>\n",
       "      <td>Irving Gates</td>\n",
       "      <td>03/05/2019</td>\n",
       "      <td>5</td>\n",
       "      <td>50390</td>\n",
       "    </tr>\n",
       "  </tbody>\n",
       "</table>\n",
       "<p>298921 rows × 7 columns</p>\n",
       "</div>"
      ],
      "text/plain": [
       "         Make Model  Year      Reviewer         Date  Rating  userID\n",
       "0       acura   ilx  2013      mahowald   08/12/2012       5  174180\n",
       "1       acura   ilx  2013           VIP   07/26/2016       5  118905\n",
       "2       acura   ilx  2013     bybchucky   09/14/2013       4  134910\n",
       "3       acura   ilx  2013    bayareamom   01/26/2015       4  129574\n",
       "4       acura   ilx  2013   Kerry Olson   03/26/2016       5   65542\n",
       "...       ...   ...   ...           ...          ...     ...     ...\n",
       "299040  volvo  xc70  2016    FirstVolvo   03/18/2017       5   39155\n",
       "299041  volvo  xc70  2016           Dhp   01/26/2016       5   31382\n",
       "299042  volvo  xc70  2016        Lisa B   05/03/2016       5   70799\n",
       "299043  volvo  xc70  2016         Milan   05/04/2019       5   80618\n",
       "299044  volvo  xc70  2016  Irving Gates   03/05/2019       5   50390\n",
       "\n",
       "[298921 rows x 7 columns]"
      ]
     },
     "execution_count": 41,
     "metadata": {},
     "output_type": "execute_result"
    }
   ],
   "source": [
    "# clean model names in both dataframes\n",
    "df_cars['Model'] = df_cars['Model'].apply(clean_model)\n",
    "df_ratings['Model'] = df_ratings['Model'].apply(clean_model)\n",
    "df_ratings"
   ]
  },
  {
   "cell_type": "code",
   "execution_count": 42,
   "id": "4bb974c5",
   "metadata": {},
   "outputs": [],
   "source": [
    "# recreate carkey for each Make-Model-Year combination (same as for df_cars) for both datasets\n",
    "df_ratings['car_key'] = df_ratings['Make'] + \"_\" + df_ratings['Model'] + \"_\" + df_ratings['Year'].astype(str)\n",
    "df_cars['car_key'] = df_cars['Make'] + \"_\" + df_cars['Model'] + \"_\" + df_cars['Year'].astype(str)"
   ]
  },
  {
   "cell_type": "code",
   "execution_count": 43,
   "id": "bbb38677",
   "metadata": {},
   "outputs": [
    {
     "data": {
      "text/plain": [
       "(24756, 9)"
      ]
     },
     "execution_count": 43,
     "metadata": {},
     "output_type": "execute_result"
    }
   ],
   "source": [
    "# merge to get carid in df_ratings\n",
    "df_ratings = df_ratings.merge(df_cars[['car_key', 'carid']], on='car_key', how='inner')\n",
    "df_ratings.shape"
   ]
  },
  {
   "cell_type": "code",
   "execution_count": 44,
   "id": "5493c4da",
   "metadata": {},
   "outputs": [
    {
     "name": "stdout",
     "output_type": "stream",
     "text": [
      "24756 ratings have a matching car in cars_df\n"
     ]
    }
   ],
   "source": [
    "overlap = df_ratings['carid'].isin(df_cars['carid']).sum()\n",
    "print(f\"{overlap} ratings have a matching car in cars_df\")"
   ]
  },
  {
   "cell_type": "code",
   "execution_count": 45,
   "id": "25bfba87",
   "metadata": {},
   "outputs": [
    {
     "data": {
      "text/plain": [
       "(24756, 9)"
      ]
     },
     "execution_count": 45,
     "metadata": {},
     "output_type": "execute_result"
    }
   ],
   "source": [
    "df_ratings.shape"
   ]
  },
  {
   "cell_type": "code",
   "execution_count": 46,
   "id": "c2b22fcd",
   "metadata": {},
   "outputs": [
    {
     "data": {
      "text/plain": [
       "count    13982.000000\n",
       "mean         1.770562\n",
       "std          3.131731\n",
       "min          1.000000\n",
       "25%          1.000000\n",
       "50%          1.000000\n",
       "75%          2.000000\n",
       "max        122.000000\n",
       "Name: count, dtype: float64"
      ]
     },
     "execution_count": 46,
     "metadata": {},
     "output_type": "execute_result"
    }
   ],
   "source": [
    "df_ratings['userID'].value_counts().describe()"
   ]
  },
  {
   "cell_type": "code",
   "execution_count": 62,
   "id": "fb138051",
   "metadata": {},
   "outputs": [],
   "source": [
    "# combine string features into one column\n",
    "df_cars['Features'] = (\n",
    "    df_cars['Year'].astype(str) + ' ' +    \n",
    "    df_cars['Make'] + ' ' +\n",
    "    df_cars['Model'] + ' ' +\n",
    "    df_cars['Drivetrain'] + ' ' +\n",
    "    df_cars['FuelType'] + ' ' +\n",
    "    df_cars['Transmission'] + ' ' +\n",
    "    df_cars['ExteriorColor']\n",
    ")"
   ]
  },
  {
   "cell_type": "markdown",
   "id": "4156a07e",
   "metadata": {},
   "source": [
    "## FINAL DATASETS\n",
    "\n",
    "export\n",
    "\n",
    "**cars.csv** and **car_ratings.csv**"
   ]
  },
  {
   "cell_type": "code",
   "execution_count": 63,
   "id": "5fba0b27",
   "metadata": {},
   "outputs": [
    {
     "data": {
      "text/html": [
       "<div>\n",
       "<style scoped>\n",
       "    .dataframe tbody tr th:only-of-type {\n",
       "        vertical-align: middle;\n",
       "    }\n",
       "\n",
       "    .dataframe tbody tr th {\n",
       "        vertical-align: top;\n",
       "    }\n",
       "\n",
       "    .dataframe thead th {\n",
       "        text-align: right;\n",
       "    }\n",
       "</style>\n",
       "<table border=\"1\" class=\"dataframe\">\n",
       "  <thead>\n",
       "    <tr style=\"text-align: right;\">\n",
       "      <th></th>\n",
       "      <th>Year</th>\n",
       "      <th>Make</th>\n",
       "      <th>Model</th>\n",
       "      <th>Used/New</th>\n",
       "      <th>Price</th>\n",
       "      <th>SellerType</th>\n",
       "      <th>ComfortRating</th>\n",
       "      <th>InteriorDesignRating</th>\n",
       "      <th>PerformanceRating</th>\n",
       "      <th>ValueForMoneyRating</th>\n",
       "      <th>...</th>\n",
       "      <th>Drivetrain</th>\n",
       "      <th>MinMPG</th>\n",
       "      <th>MaxMPG</th>\n",
       "      <th>FuelType</th>\n",
       "      <th>Transmission</th>\n",
       "      <th>Mileage</th>\n",
       "      <th>car_key</th>\n",
       "      <th>carid</th>\n",
       "      <th>features</th>\n",
       "      <th>Features</th>\n",
       "    </tr>\n",
       "  </thead>\n",
       "  <tbody>\n",
       "    <tr>\n",
       "      <th>0</th>\n",
       "      <td>2019</td>\n",
       "      <td>toyota</td>\n",
       "      <td>sienna</td>\n",
       "      <td>Used</td>\n",
       "      <td>39998.0</td>\n",
       "      <td>Dealer</td>\n",
       "      <td>4.7</td>\n",
       "      <td>4.6</td>\n",
       "      <td>4.6</td>\n",
       "      <td>4.4</td>\n",
       "      <td>...</td>\n",
       "      <td>Front-wheel Drive</td>\n",
       "      <td>19</td>\n",
       "      <td>27</td>\n",
       "      <td>Gasoline</td>\n",
       "      <td>Automatic</td>\n",
       "      <td>29403</td>\n",
       "      <td>toyota_sienna_2019</td>\n",
       "      <td>1</td>\n",
       "      <td>2019 toyota sienna Front-wheel Drive Gasoline ...</td>\n",
       "      <td>2019 toyota sienna Front-wheel Drive Gasoline ...</td>\n",
       "    </tr>\n",
       "    <tr>\n",
       "      <th>1</th>\n",
       "      <td>2018</td>\n",
       "      <td>ford</td>\n",
       "      <td>f-150 lariat</td>\n",
       "      <td>Used</td>\n",
       "      <td>49985.0</td>\n",
       "      <td>Dealer</td>\n",
       "      <td>4.9</td>\n",
       "      <td>4.8</td>\n",
       "      <td>4.8</td>\n",
       "      <td>4.6</td>\n",
       "      <td>...</td>\n",
       "      <td>Four-wheel Drive</td>\n",
       "      <td>19</td>\n",
       "      <td>24</td>\n",
       "      <td>Gasoline</td>\n",
       "      <td>Automatic</td>\n",
       "      <td>32929</td>\n",
       "      <td>ford_f-150 lariat_2018</td>\n",
       "      <td>2</td>\n",
       "      <td>2018 ford f-150 lariat Four-wheel Drive Gasoli...</td>\n",
       "      <td>2018 ford f-150 lariat Four-wheel Drive Gasoli...</td>\n",
       "    </tr>\n",
       "    <tr>\n",
       "      <th>2</th>\n",
       "      <td>2017</td>\n",
       "      <td>ram</td>\n",
       "      <td>1500 laramie</td>\n",
       "      <td>Used</td>\n",
       "      <td>41860.0</td>\n",
       "      <td>Dealer</td>\n",
       "      <td>4.8</td>\n",
       "      <td>4.7</td>\n",
       "      <td>4.8</td>\n",
       "      <td>4.6</td>\n",
       "      <td>...</td>\n",
       "      <td>Four-wheel Drive</td>\n",
       "      <td>15</td>\n",
       "      <td>21</td>\n",
       "      <td>Gasoline</td>\n",
       "      <td>Automatic</td>\n",
       "      <td>23173</td>\n",
       "      <td>ram_1500 laramie_2017</td>\n",
       "      <td>3</td>\n",
       "      <td>2017 ram 1500 laramie Four-wheel Drive Gasolin...</td>\n",
       "      <td>2017 ram 1500 laramie Four-wheel Drive Gasolin...</td>\n",
       "    </tr>\n",
       "  </tbody>\n",
       "</table>\n",
       "<p>3 rows × 23 columns</p>\n",
       "</div>"
      ],
      "text/plain": [
       "   Year    Make         Model Used/New    Price SellerType  ComfortRating  \\\n",
       "0  2019  toyota        sienna     Used  39998.0     Dealer            4.7   \n",
       "1  2018    ford  f-150 lariat     Used  49985.0     Dealer            4.9   \n",
       "2  2017     ram  1500 laramie     Used  41860.0     Dealer            4.8   \n",
       "\n",
       "   InteriorDesignRating  PerformanceRating  ValueForMoneyRating  ...  \\\n",
       "0                   4.6                4.6                  4.4  ...   \n",
       "1                   4.8                4.8                  4.6  ...   \n",
       "2                   4.7                4.8                  4.6  ...   \n",
       "\n",
       "          Drivetrain  MinMPG MaxMPG  FuelType  Transmission  Mileage  \\\n",
       "0  Front-wheel Drive      19     27  Gasoline     Automatic    29403   \n",
       "1   Four-wheel Drive      19     24  Gasoline     Automatic    32929   \n",
       "2   Four-wheel Drive      15     21  Gasoline     Automatic    23173   \n",
       "\n",
       "                  car_key carid  \\\n",
       "0      toyota_sienna_2019     1   \n",
       "1  ford_f-150 lariat_2018     2   \n",
       "2   ram_1500 laramie_2017     3   \n",
       "\n",
       "                                            features  \\\n",
       "0  2019 toyota sienna Front-wheel Drive Gasoline ...   \n",
       "1  2018 ford f-150 lariat Four-wheel Drive Gasoli...   \n",
       "2  2017 ram 1500 laramie Four-wheel Drive Gasolin...   \n",
       "\n",
       "                                            Features  \n",
       "0  2019 toyota sienna Front-wheel Drive Gasoline ...  \n",
       "1  2018 ford f-150 lariat Four-wheel Drive Gasoli...  \n",
       "2  2017 ram 1500 laramie Four-wheel Drive Gasolin...  \n",
       "\n",
       "[3 rows x 23 columns]"
      ]
     },
     "execution_count": 63,
     "metadata": {},
     "output_type": "execute_result"
    }
   ],
   "source": [
    "df_cars.head(3)"
   ]
  },
  {
   "cell_type": "code",
   "execution_count": 49,
   "id": "15a1e44f",
   "metadata": {},
   "outputs": [
    {
     "data": {
      "text/html": [
       "<div>\n",
       "<style scoped>\n",
       "    .dataframe tbody tr th:only-of-type {\n",
       "        vertical-align: middle;\n",
       "    }\n",
       "\n",
       "    .dataframe tbody tr th {\n",
       "        vertical-align: top;\n",
       "    }\n",
       "\n",
       "    .dataframe thead th {\n",
       "        text-align: right;\n",
       "    }\n",
       "</style>\n",
       "<table border=\"1\" class=\"dataframe\">\n",
       "  <thead>\n",
       "    <tr style=\"text-align: right;\">\n",
       "      <th></th>\n",
       "      <th>userID</th>\n",
       "      <th>carid</th>\n",
       "      <th>Rating</th>\n",
       "      <th>Date</th>\n",
       "    </tr>\n",
       "  </thead>\n",
       "  <tbody>\n",
       "    <tr>\n",
       "      <th>0</th>\n",
       "      <td>98305</td>\n",
       "      <td>1999</td>\n",
       "      <td>5</td>\n",
       "      <td>05/14/2020</td>\n",
       "    </tr>\n",
       "    <tr>\n",
       "      <th>1</th>\n",
       "      <td>104494</td>\n",
       "      <td>1999</td>\n",
       "      <td>5</td>\n",
       "      <td>07/04/2020</td>\n",
       "    </tr>\n",
       "    <tr>\n",
       "      <th>2</th>\n",
       "      <td>32756</td>\n",
       "      <td>1999</td>\n",
       "      <td>5</td>\n",
       "      <td>08/07/2020</td>\n",
       "    </tr>\n",
       "  </tbody>\n",
       "</table>\n",
       "</div>"
      ],
      "text/plain": [
       "   userID  carid  Rating         Date\n",
       "0   98305   1999       5   05/14/2020\n",
       "1  104494   1999       5   07/04/2020\n",
       "2   32756   1999       5   08/07/2020"
      ]
     },
     "execution_count": 49,
     "metadata": {},
     "output_type": "execute_result"
    }
   ],
   "source": [
    "# remove unwanted columns\n",
    "df_ratings_clean = df_ratings[['userID', 'carid', 'Rating', 'Date']].copy()\n",
    "df_ratings_clean.head(3)"
   ]
  },
  {
   "cell_type": "code",
   "execution_count": 66,
   "id": "9dd78023",
   "metadata": {},
   "outputs": [
    {
     "data": {
      "text/html": [
       "<div>\n",
       "<style scoped>\n",
       "    .dataframe tbody tr th:only-of-type {\n",
       "        vertical-align: middle;\n",
       "    }\n",
       "\n",
       "    .dataframe tbody tr th {\n",
       "        vertical-align: top;\n",
       "    }\n",
       "\n",
       "    .dataframe thead th {\n",
       "        text-align: right;\n",
       "    }\n",
       "</style>\n",
       "<table border=\"1\" class=\"dataframe\">\n",
       "  <thead>\n",
       "    <tr style=\"text-align: right;\">\n",
       "      <th></th>\n",
       "      <th>carid</th>\n",
       "      <th>Features</th>\n",
       "      <th>Price</th>\n",
       "    </tr>\n",
       "  </thead>\n",
       "  <tbody>\n",
       "    <tr>\n",
       "      <th>0</th>\n",
       "      <td>1</td>\n",
       "      <td>2019 toyota sienna Front-wheel Drive Gasoline ...</td>\n",
       "      <td>39998.0</td>\n",
       "    </tr>\n",
       "    <tr>\n",
       "      <th>1</th>\n",
       "      <td>2</td>\n",
       "      <td>2018 ford f-150 lariat Four-wheel Drive Gasoli...</td>\n",
       "      <td>49985.0</td>\n",
       "    </tr>\n",
       "    <tr>\n",
       "      <th>2</th>\n",
       "      <td>3</td>\n",
       "      <td>2017 ram 1500 laramie Four-wheel Drive Gasolin...</td>\n",
       "      <td>41860.0</td>\n",
       "    </tr>\n",
       "  </tbody>\n",
       "</table>\n",
       "</div>"
      ],
      "text/plain": [
       "   carid                                           Features    Price\n",
       "0      1  2019 toyota sienna Front-wheel Drive Gasoline ...  39998.0\n",
       "1      2  2018 ford f-150 lariat Four-wheel Drive Gasoli...  49985.0\n",
       "2      3  2017 ram 1500 laramie Four-wheel Drive Gasolin...  41860.0"
      ]
     },
     "execution_count": 66,
     "metadata": {},
     "output_type": "execute_result"
    }
   ],
   "source": [
    "# repeat for df_cars\n",
    "df_cars_clean = df_cars[['carid','Features', 'Price']].copy()\n",
    "df_cars_clean.head(3)"
   ]
  },
  {
   "cell_type": "code",
   "execution_count": 67,
   "id": "c400e2a6",
   "metadata": {},
   "outputs": [
    {
     "name": "stdout",
     "output_type": "stream",
     "text": [
      "Index(['userID', 'carid', 'Rating', 'Date'], dtype='object')\n",
      "Index(['carid', 'Features', 'Price'], dtype='object')\n"
     ]
    }
   ],
   "source": [
    "print(df_ratings_clean.columns)\n",
    "print(df_cars_clean.columns)"
   ]
  },
  {
   "cell_type": "code",
   "execution_count": 68,
   "id": "e609de3a",
   "metadata": {},
   "outputs": [],
   "source": [
    "# export cleaned dataframes as new CSV files\n",
    "df_cars_clean.to_csv(\"./data/df_cars_clean.csv\", index=False)\n",
    "df_ratings_clean.to_csv(\"./data/df_ratings_clean.csv\", index=False)"
   ]
  },
  {
   "cell_type": "markdown",
   "id": "d58b768d",
   "metadata": {},
   "source": [
    "## Bonus plot to get depressed"
   ]
  },
  {
   "cell_type": "code",
   "execution_count": 53,
   "id": "698f7f2d",
   "metadata": {},
   "outputs": [
    {
     "data": {
      "text/plain": [
       "Text(0.5, 1.0, 'Average Price by Year')"
      ]
     },
     "execution_count": 53,
     "metadata": {},
     "output_type": "execute_result"
    },
    {
     "data": {
      "image/png": "[encoded data removed]",
      "text/plain": [
       "<Figure size 640x480 with 1 Axes>"
      ]
     },
     "metadata": {},
     "output_type": "display_data"
    }
   ],
   "source": [
    "df_cars_clean.groupby('Year')['Price'].mean().plot(kind='line')\n",
    "plt.title('Average Price by Year', fontsize=16, fontweight='bold')"
   ]
  }
 ],
 "metadata": {
  "kernelspec": {
   "display_name": ".venv",
   "language": "python",
   "name": "python3"
  },
  "language_info": {
   "codemirror_mode": {
    "name": "ipython",
    "version": 3
   },
   "file_extension": ".py",
   "mimetype": "text/x-python",
   "name": "python",
   "nbconvert_exporter": "python",
   "pygments_lexer": "ipython3",
   "version": "3.12.2"
  }
 },
 "nbformat": 4,
 "nbformat_minor": 5
}
